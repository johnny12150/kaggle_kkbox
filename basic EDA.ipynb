{
 "cells": [
  {
   "cell_type": "code",
   "execution_count": 1,
   "metadata": {},
   "outputs": [],
   "source": [
    "import numpy as np \n",
    "import pandas as pd \n",
    "import matplotlib.pyplot as plt\n",
    "import seaborn as sns\n",
    "import warnings\n",
    "warnings.filterwarnings(\"ignore\")"
   ]
  },
  {
   "cell_type": "markdown",
   "metadata": {},
   "source": [
    "作圖格式\n",
    ">  https://stackoverflow.com/questions/42277989/square-root-scale-using-matplotlib-python"
   ]
  },
  {
   "cell_type": "code",
   "execution_count": 2,
   "metadata": {},
   "outputs": [],
   "source": [
    "import matplotlib.scale as mscale\n",
    "import matplotlib.transforms as mtransforms\n",
    "import matplotlib.ticker as ticker\n",
    "import numpy as np\n",
    "\n",
    "class SquareRootScale(mscale.ScaleBase):\n",
    "    \"\"\"\n",
    "    ScaleBase class for generating square root scale.\n",
    "    \"\"\"\n",
    "\n",
    "    name = 'squareroot'\n",
    "\n",
    "    def __init__(self, axis, **kwargs):\n",
    "        super().__init__(axis, **kwargs)\n",
    "        # 舊版用法\n",
    "        # mscale.ScaleBase.__init__(self)\n",
    "\n",
    "    def set_default_locators_and_formatters(self, axis):\n",
    "        axis.set_major_locator(ticker.AutoLocator())\n",
    "        axis.set_major_formatter(ticker.ScalarFormatter())\n",
    "        axis.set_minor_locator(ticker.NullLocator())\n",
    "        axis.set_minor_formatter(ticker.NullFormatter())\n",
    "\n",
    "    def limit_range_for_scale(self, vmin, vmax, minpos):\n",
    "        return  max(0., vmin), vmax\n",
    "\n",
    "    class SquareRootTransform(mtransforms.Transform):\n",
    "        input_dims = 1\n",
    "        output_dims = 1\n",
    "        is_separable = True\n",
    "\n",
    "        def transform_non_affine(self, a): \n",
    "            return np.array(a)**0.5\n",
    "\n",
    "        def inverted(self):\n",
    "            return SquareRootScale.InvertedSquareRootTransform()\n",
    "\n",
    "    class InvertedSquareRootTransform(mtransforms.Transform):\n",
    "        input_dims = 1\n",
    "        output_dims = 1\n",
    "        is_separable = True\n",
    "\n",
    "        def transform(self, a):\n",
    "            return np.array(a)**2\n",
    "\n",
    "        def inverted(self):\n",
    "            return SquareRootScale.SquareRootTransform()\n",
    "\n",
    "    def get_transform(self):\n",
    "        return self.SquareRootTransform()\n",
    "\n",
    "mscale.register_scale(SquareRootScale)"
   ]
  },
  {
   "cell_type": "markdown",
   "metadata": {},
   "source": [
    "## 觀察流失\n",
    "`is_churn`意義為是否流失"
   ]
  },
  {
   "cell_type": "code",
   "execution_count": 5,
   "metadata": {},
   "outputs": [
    {
     "data": {
      "text/html": [
       "<div>\n",
       "<style scoped>\n",
       "    .dataframe tbody tr th:only-of-type {\n",
       "        vertical-align: middle;\n",
       "    }\n",
       "\n",
       "    .dataframe tbody tr th {\n",
       "        vertical-align: top;\n",
       "    }\n",
       "\n",
       "    .dataframe thead th {\n",
       "        text-align: right;\n",
       "    }\n",
       "</style>\n",
       "<table border=\"1\" class=\"dataframe\">\n",
       "  <thead>\n",
       "    <tr style=\"text-align: right;\">\n",
       "      <th></th>\n",
       "      <th>msno</th>\n",
       "      <th>is_churn</th>\n",
       "    </tr>\n",
       "  </thead>\n",
       "  <tbody>\n",
       "    <tr>\n",
       "      <th>0</th>\n",
       "      <td>++4RuqBw0Ss6bQU4oMxaRlbBPoWzoEiIZaxPM04Y4+U=</td>\n",
       "      <td>False</td>\n",
       "    </tr>\n",
       "    <tr>\n",
       "      <th>1</th>\n",
       "      <td>+/HS8LzrRGXolKbxRzDLqrmwuXqPOYixBIPXkyNcKNI=</td>\n",
       "      <td>False</td>\n",
       "    </tr>\n",
       "    <tr>\n",
       "      <th>2</th>\n",
       "      <td>+/namlXq+u3izRjHCFJV4MgqcXcLidZYszVsROOq/y4=</td>\n",
       "      <td>False</td>\n",
       "    </tr>\n",
       "    <tr>\n",
       "      <th>3</th>\n",
       "      <td>+0/X9tkmyHyet9X80G6GTrDFHnJqvai8d1ZPhayT0os=</td>\n",
       "      <td>False</td>\n",
       "    </tr>\n",
       "    <tr>\n",
       "      <th>4</th>\n",
       "      <td>+09YGn842g6h2EZUXe0VWeC4bBoCbDGfUboitc0vIHw=</td>\n",
       "      <td>False</td>\n",
       "    </tr>\n",
       "  </tbody>\n",
       "</table>\n",
       "</div>"
      ],
      "text/plain": [
       "                                           msno  is_churn\n",
       "0  ++4RuqBw0Ss6bQU4oMxaRlbBPoWzoEiIZaxPM04Y4+U=     False\n",
       "1  +/HS8LzrRGXolKbxRzDLqrmwuXqPOYixBIPXkyNcKNI=     False\n",
       "2  +/namlXq+u3izRjHCFJV4MgqcXcLidZYszVsROOq/y4=     False\n",
       "3  +0/X9tkmyHyet9X80G6GTrDFHnJqvai8d1ZPhayT0os=     False\n",
       "4  +09YGn842g6h2EZUXe0VWeC4bBoCbDGfUboitc0vIHw=     False"
      ]
     },
     "execution_count": 5,
     "metadata": {},
     "output_type": "execute_result"
    }
   ],
   "source": [
    "df = pd.read_csv(\"~/data/kkbox/user_label_201702.csv\")\n",
    "df.head()"
   ]
  },
  {
   "cell_type": "markdown",
   "metadata": {},
   "source": [
    "檢查缺失值"
   ]
  },
  {
   "cell_type": "code",
   "execution_count": 4,
   "metadata": {},
   "outputs": [
    {
     "data": {
      "text/plain": [
       "msno        0\n",
       "is_churn    0\n",
       "dtype: int64"
      ]
     },
     "execution_count": 4,
     "metadata": {},
     "output_type": "execute_result"
    }
   ],
   "source": [
    "df.isna().sum()"
   ]
  },
  {
   "cell_type": "code",
   "execution_count": 8,
   "metadata": {},
   "outputs": [
    {
     "data": {
      "text/html": [
       "<div>\n",
       "<style scoped>\n",
       "    .dataframe tbody tr th:only-of-type {\n",
       "        vertical-align: middle;\n",
       "    }\n",
       "\n",
       "    .dataframe tbody tr th {\n",
       "        vertical-align: top;\n",
       "    }\n",
       "\n",
       "    .dataframe thead th {\n",
       "        text-align: right;\n",
       "    }\n",
       "</style>\n",
       "<table border=\"1\" class=\"dataframe\">\n",
       "  <thead>\n",
       "    <tr style=\"text-align: right;\">\n",
       "      <th></th>\n",
       "      <th>msno</th>\n",
       "      <th>is_churn</th>\n",
       "    </tr>\n",
       "  </thead>\n",
       "  <tbody>\n",
       "    <tr>\n",
       "      <th>count</th>\n",
       "      <td>879537</td>\n",
       "      <td>879537</td>\n",
       "    </tr>\n",
       "    <tr>\n",
       "      <th>unique</th>\n",
       "      <td>879537</td>\n",
       "      <td>2</td>\n",
       "    </tr>\n",
       "    <tr>\n",
       "      <th>top</th>\n",
       "      <td>9VpzSbqSIM+/dASgDXiIxV+ijNK9VsaFMHEuDHF+yRg=</td>\n",
       "      <td>False</td>\n",
       "    </tr>\n",
       "    <tr>\n",
       "      <th>freq</th>\n",
       "      <td>1</td>\n",
       "      <td>844756</td>\n",
       "    </tr>\n",
       "  </tbody>\n",
       "</table>\n",
       "</div>"
      ],
      "text/plain": [
       "                                                msno is_churn\n",
       "count                                         879537   879537\n",
       "unique                                        879537        2\n",
       "top     9VpzSbqSIM+/dASgDXiIxV+ijNK9VsaFMHEuDHF+yRg=    False\n",
       "freq                                               1   844756"
      ]
     },
     "execution_count": 8,
     "metadata": {},
     "output_type": "execute_result"
    }
   ],
   "source": [
    "df.describe()"
   ]
  },
  {
   "cell_type": "markdown",
   "metadata": {},
   "source": [
    "流失的使用者非常少，少於25%"
   ]
  },
  {
   "cell_type": "code",
   "execution_count": 15,
   "metadata": {},
   "outputs": [
    {
     "data": {
      "text/plain": [
       "0.0"
      ]
     },
     "execution_count": 15,
     "metadata": {},
     "output_type": "execute_result"
    }
   ],
   "source": [
    "df.is_churn.quantile(0.5)"
   ]
  },
  {
   "cell_type": "markdown",
   "metadata": {},
   "source": [
    "2017-3的流失量"
   ]
  },
  {
   "cell_type": "code",
   "execution_count": 16,
   "metadata": {},
   "outputs": [
    {
     "data": {
      "text/html": [
       "<div>\n",
       "<style scoped>\n",
       "    .dataframe tbody tr th:only-of-type {\n",
       "        vertical-align: middle;\n",
       "    }\n",
       "\n",
       "    .dataframe tbody tr th {\n",
       "        vertical-align: top;\n",
       "    }\n",
       "\n",
       "    .dataframe thead th {\n",
       "        text-align: right;\n",
       "    }\n",
       "</style>\n",
       "<table border=\"1\" class=\"dataframe\">\n",
       "  <thead>\n",
       "    <tr style=\"text-align: right;\">\n",
       "      <th></th>\n",
       "      <th>msno</th>\n",
       "    </tr>\n",
       "    <tr>\n",
       "      <th>is_churn</th>\n",
       "      <th></th>\n",
       "    </tr>\n",
       "  </thead>\n",
       "  <tbody>\n",
       "    <tr>\n",
       "      <th>False</th>\n",
       "      <td>844756</td>\n",
       "    </tr>\n",
       "    <tr>\n",
       "      <th>True</th>\n",
       "      <td>34781</td>\n",
       "    </tr>\n",
       "  </tbody>\n",
       "</table>\n",
       "</div>"
      ],
      "text/plain": [
       "            msno\n",
       "is_churn        \n",
       "False     844756\n",
       "True       34781"
      ]
     },
     "execution_count": 16,
     "metadata": {},
     "output_type": "execute_result"
    }
   ],
   "source": [
    "df.groupby('is_churn').count()"
   ]
  },
  {
   "cell_type": "code",
   "execution_count": 65,
   "metadata": {
    "collapsed": true,
    "jupyter": {
     "outputs_hidden": true
    }
   },
   "outputs": [
    {
     "data": {
      "image/png": "[encoded data removed]",
      "text/plain": [
       "<Figure size 576x360 with 1 Axes>"
      ]
     },
     "metadata": {
      "needs_background": "light"
     },
     "output_type": "display_data"
    }
   ],
   "source": [
    "%matplotlib inline\n",
    "# give labels\n",
    "df_is_churn = df.groupby('is_churn').count().reset_index().rename(columns={'is_churn':'labels'})\n",
    "# plot\n",
    "ax =df_is_churn.plot(kind='bar', x='labels',y='msno',legend=False,figsize=(8,5))\n",
    "plt.xticks(rotation=0)\n",
    "# ax.set_yscale('log')\n",
    "plt.yscale('squareroot')\n",
    "# ax.set_yscale('squareroot')\n",
    "# ticks the ratio\n",
    "for p in ax.patches[:4]:\n",
    "    ax.annotate('%.3f' % (p.get_height()/ df_is_churn.msno.sum()), (p.get_x() * 1.005, p.get_height() * 1.005))"
   ]
  },
  {
   "cell_type": "code",
   "execution_count": 66,
   "metadata": {},
   "outputs": [
    {
     "data": {
      "image/png": "[encoded data removed]",
      "text/plain": [
       "<Figure size 864x576 with 1 Axes>"
      ]
     },
     "metadata": {},
     "output_type": "display_data"
    }
   ],
   "source": [
    "sns.set(style=\"whitegrid\")\n",
    "fig, ax = plt.subplots(figsize=(12,8))\n",
    "g = sns.barplot(data = df_is_churn, x='labels',y='msno')\n",
    "g.set(yscale='squareroot')\n",
    "\n",
    "# ticks the ratio\n",
    "for p in ax.patches[:4]:\n",
    "    ax.annotate('%.3f' % (p.get_height()/ df_is_churn.msno.sum()), (p.get_x() * 1.005, p.get_height() * 1.005))"
   ]
  },
  {
   "cell_type": "markdown",
   "metadata": {},
   "source": [
    "#### 會員是否流失的資料"
   ]
  },
  {
   "cell_type": "code",
   "execution_count": 9,
   "metadata": {},
   "outputs": [
    {
     "data": {
      "text/plain": [
       "(992931, 2)"
      ]
     },
     "execution_count": 9,
     "metadata": {},
     "output_type": "execute_result"
    }
   ],
   "source": [
    "df_train = pd.read_csv('~/data/kkbox/train.csv')\n",
    "df_train.shape"
   ]
  },
  {
   "cell_type": "markdown",
   "metadata": {},
   "source": [
    "## 觀察會員"
   ]
  },
  {
   "cell_type": "code",
   "execution_count": 6,
   "metadata": {},
   "outputs": [
    {
     "data": {
      "text/html": [
       "<div>\n",
       "<style scoped>\n",
       "    .dataframe tbody tr th:only-of-type {\n",
       "        vertical-align: middle;\n",
       "    }\n",
       "\n",
       "    .dataframe tbody tr th {\n",
       "        vertical-align: top;\n",
       "    }\n",
       "\n",
       "    .dataframe thead th {\n",
       "        text-align: right;\n",
       "    }\n",
       "</style>\n",
       "<table border=\"1\" class=\"dataframe\">\n",
       "  <thead>\n",
       "    <tr style=\"text-align: right;\">\n",
       "      <th></th>\n",
       "      <th>msno</th>\n",
       "      <th>city</th>\n",
       "      <th>bd</th>\n",
       "      <th>gender</th>\n",
       "      <th>registered_via</th>\n",
       "      <th>registration_init_time</th>\n",
       "      <th>is_churn</th>\n",
       "    </tr>\n",
       "  </thead>\n",
       "  <tbody>\n",
       "    <tr>\n",
       "      <th>0</th>\n",
       "      <td>Rb9UwLQTrxzBVwCB6+bCcSQWZ9JiNLC9dXtM1oEsZA8=</td>\n",
       "      <td>1</td>\n",
       "      <td>0</td>\n",
       "      <td>NaN</td>\n",
       "      <td>11</td>\n",
       "      <td>20110911</td>\n",
       "      <td>NaN</td>\n",
       "    </tr>\n",
       "    <tr>\n",
       "      <th>1</th>\n",
       "      <td>+tJonkh+O1CA796Fm5X60UMOtB6POHAwPjbTRVl/EuU=</td>\n",
       "      <td>1</td>\n",
       "      <td>0</td>\n",
       "      <td>NaN</td>\n",
       "      <td>7</td>\n",
       "      <td>20110914</td>\n",
       "      <td>0.0</td>\n",
       "    </tr>\n",
       "    <tr>\n",
       "      <th>2</th>\n",
       "      <td>cV358ssn7a0f7jZOwGNWS07wCKVqxyiImJUX6xcIwKw=</td>\n",
       "      <td>1</td>\n",
       "      <td>0</td>\n",
       "      <td>NaN</td>\n",
       "      <td>11</td>\n",
       "      <td>20110915</td>\n",
       "      <td>NaN</td>\n",
       "    </tr>\n",
       "    <tr>\n",
       "      <th>3</th>\n",
       "      <td>9bzDeJP6sQodK73K5CBlJ6fgIQzPeLnRl0p5B77XP+g=</td>\n",
       "      <td>1</td>\n",
       "      <td>0</td>\n",
       "      <td>NaN</td>\n",
       "      <td>11</td>\n",
       "      <td>20110915</td>\n",
       "      <td>NaN</td>\n",
       "    </tr>\n",
       "    <tr>\n",
       "      <th>4</th>\n",
       "      <td>WFLY3s7z4EZsieHCt63XrsdtfTEmJ+2PnnKLH5GY4Tk=</td>\n",
       "      <td>6</td>\n",
       "      <td>32</td>\n",
       "      <td>female</td>\n",
       "      <td>9</td>\n",
       "      <td>20110915</td>\n",
       "      <td>NaN</td>\n",
       "    </tr>\n",
       "  </tbody>\n",
       "</table>\n",
       "</div>"
      ],
      "text/plain": [
       "                                           msno  city  bd  gender  \\\n",
       "0  Rb9UwLQTrxzBVwCB6+bCcSQWZ9JiNLC9dXtM1oEsZA8=     1   0     NaN   \n",
       "1  +tJonkh+O1CA796Fm5X60UMOtB6POHAwPjbTRVl/EuU=     1   0     NaN   \n",
       "2  cV358ssn7a0f7jZOwGNWS07wCKVqxyiImJUX6xcIwKw=     1   0     NaN   \n",
       "3  9bzDeJP6sQodK73K5CBlJ6fgIQzPeLnRl0p5B77XP+g=     1   0     NaN   \n",
       "4  WFLY3s7z4EZsieHCt63XrsdtfTEmJ+2PnnKLH5GY4Tk=     6  32  female   \n",
       "\n",
       "   registered_via  registration_init_time  is_churn  \n",
       "0              11                20110911       NaN  \n",
       "1               7                20110914       0.0  \n",
       "2              11                20110915       NaN  \n",
       "3              11                20110915       NaN  \n",
       "4               9                20110915       NaN  "
      ]
     },
     "execution_count": 6,
     "metadata": {},
     "output_type": "execute_result"
    }
   ],
   "source": [
    "df_member = pd.read_csv('~/data/kkbox/members_v3.csv')\n",
    "df_member = pd.merge(df_member, df_train, how='left', on=['msno'])\n",
    "df_member.head()"
   ]
  },
  {
   "cell_type": "code",
   "execution_count": 11,
   "metadata": {},
   "outputs": [
    {
     "data": {
      "text/plain": [
       "(6769473, 7)"
      ]
     },
     "execution_count": 11,
     "metadata": {},
     "output_type": "execute_result"
    }
   ],
   "source": [
    "df_member.shape"
   ]
  },
  {
   "cell_type": "code",
   "execution_count": 8,
   "metadata": {},
   "outputs": [
    {
     "data": {
      "text/plain": [
       "msno                      0.000000\n",
       "city                      0.000000\n",
       "bd                        0.000000\n",
       "gender                    0.654335\n",
       "registered_via            0.000000\n",
       "registration_init_time    0.000000\n",
       "is_churn                  0.870424\n",
       "dtype: float64"
      ]
     },
     "execution_count": 8,
     "metadata": {},
     "output_type": "execute_result"
    }
   ],
   "source": [
    "df_member.isna().sum()/ len(df_member)"
   ]
  },
  {
   "cell_type": "markdown",
   "metadata": {},
   "source": [
    "### 經由甚麼裝置註冊"
   ]
  },
  {
   "cell_type": "code",
   "execution_count": 16,
   "metadata": {},
   "outputs": [],
   "source": [
    "sns.set_style(\"darkgrid\", {\"axes.facecolor\": \".9\"}) # 設定樣式"
   ]
  },
  {
   "cell_type": "code",
   "execution_count": 16,
   "metadata": {},
   "outputs": [
    {
     "data": {
      "text/plain": [
       "<matplotlib.lines.Line2D at 0x7efb79e62d68>"
      ]
     },
     "execution_count": 16,
     "metadata": {},
     "output_type": "execute_result"
    },
    {
     "data": {
      "image/png": "[encoded data removed]",
      "text/plain": [
       "<Figure size 576x432 with 1 Axes>"
      ]
     },
     "metadata": {},
     "output_type": "display_data"
    }
   ],
   "source": [
    "result_reg = df_member.groupby([\"registered_via\"])['is_churn'].mean().reset_index().sort_values('is_churn')\n",
    "fig, ax = plt.subplots(figsize=(8,6))\n",
    "sns.barplot(x='registered_via',y='is_churn',data=df_member,order=result_reg['registered_via'],ax=ax,alpha=.75)\n",
    "ax.axhline(0.049,linestyle='dashed', c='black',alpha = .3)"
   ]
  },
  {
   "cell_type": "markdown",
   "metadata": {},
   "source": [
    "### Age"
   ]
  },
  {
   "cell_type": "code",
   "execution_count": 45,
   "metadata": {},
   "outputs": [
    {
     "data": {
      "text/html": [
       "<div>\n",
       "<style scoped>\n",
       "    .dataframe tbody tr th:only-of-type {\n",
       "        vertical-align: middle;\n",
       "    }\n",
       "\n",
       "    .dataframe tbody tr th {\n",
       "        vertical-align: top;\n",
       "    }\n",
       "\n",
       "    .dataframe thead th {\n",
       "        text-align: right;\n",
       "    }\n",
       "</style>\n",
       "<table border=\"1\" class=\"dataframe\">\n",
       "  <thead>\n",
       "    <tr style=\"text-align: right;\">\n",
       "      <th></th>\n",
       "      <th>bd</th>\n",
       "    </tr>\n",
       "  </thead>\n",
       "  <tbody>\n",
       "    <tr>\n",
       "      <th>count</th>\n",
       "      <td>6769473.000</td>\n",
       "    </tr>\n",
       "    <tr>\n",
       "      <th>mean</th>\n",
       "      <td>9.796</td>\n",
       "    </tr>\n",
       "    <tr>\n",
       "      <th>std</th>\n",
       "      <td>17.926</td>\n",
       "    </tr>\n",
       "    <tr>\n",
       "      <th>min</th>\n",
       "      <td>-7168.000</td>\n",
       "    </tr>\n",
       "    <tr>\n",
       "      <th>25%</th>\n",
       "      <td>0.000</td>\n",
       "    </tr>\n",
       "    <tr>\n",
       "      <th>50%</th>\n",
       "      <td>0.000</td>\n",
       "    </tr>\n",
       "    <tr>\n",
       "      <th>75%</th>\n",
       "      <td>21.000</td>\n",
       "    </tr>\n",
       "    <tr>\n",
       "      <th>max</th>\n",
       "      <td>2016.000</td>\n",
       "    </tr>\n",
       "  </tbody>\n",
       "</table>\n",
       "</div>"
      ],
      "text/plain": [
       "               bd\n",
       "count 6769473.000\n",
       "mean        9.796\n",
       "std        17.926\n",
       "min     -7168.000\n",
       "25%         0.000\n",
       "50%         0.000\n",
       "75%        21.000\n",
       "max      2016.000"
      ]
     },
     "execution_count": 45,
     "metadata": {},
     "output_type": "execute_result"
    }
   ],
   "source": [
    "df_member[['bd']].describe()"
   ]
  },
  {
   "cell_type": "code",
   "execution_count": 24,
   "metadata": {},
   "outputs": [
    {
     "name": "stdout",
     "output_type": "stream",
     "text": [
      "Ages between 0 ~ 90   :  0.328   \n"
     ]
    }
   ],
   "source": [
    "# 有效年齡百分比\n",
    "meaningful = (df_member.bd > 0 ) & (df_member.bd < 90)\n",
    "print('Ages between 0 ~ 90   :  %.3f   ' %( len(df_member[meaningful]) / len(df_member) ))"
   ]
  },
  {
   "cell_type": "code",
   "execution_count": 26,
   "metadata": {},
   "outputs": [
    {
     "data": {
      "image/png": "[encoded data removed]",
      "text/plain": [
       "<Figure size 1440x576 with 2 Axes>"
      ]
     },
     "metadata": {},
     "output_type": "display_data"
    }
   ],
   "source": [
    "sns.set(font_scale=1.56)\n",
    "from pandas.plotting import table\n",
    "\n",
    "# create fig and ax \n",
    "with sns.axes_style('white'):\n",
    "    fig, [ax1, ax2] = plt.subplots(1,2, figsize=(20,8))\n",
    "# distribution\n",
    "    NOT_churn = ( (df_member.is_churn == 0) & (df_member.bd > 0 ) & (df_member.bd < 90) )\n",
    "    churn = ( (df_member.is_churn == 1) & (df_member.bd > 0 ) & (df_member.bd < 90) )\n",
    "    bins= 25\n",
    "    sns.distplot(df_member.loc[NOT_churn,'bd'],kde=False,label='NOT_churn',ax=ax1,norm_hist=True,bins=bins)\n",
    "    sns.distplot(df_member.loc[churn,'bd'],kde=False,label='churn',ax=ax1,norm_hist=True,bins=bins)\n",
    "    ax1.legend()\n",
    "    ax1.axvline(26,linestyle='dashed',c='black',alpha=.5)\n",
    "\n",
    "# 判斷年紀 bd<26 == 1, bd>26 ==0 , other = -1\n",
    "    df_member['age_under_26'] = df_member.bd.apply(lambda x: 1 if 0 < x <= 26 else 0 if 26 < x <= 90 else -1)\n",
    "\n",
    "# prepare table (% of each value)\n",
    "    df_percent = pd.DataFrame( df_member['age_under_26'].value_counts().sort_index() / len(df_member) ).round(3) \n",
    "# barplot with percent table\n",
    "    sns.barplot(x='age_under_26',y='is_churn',data=df_member,ax=ax2)\n",
    "    ax2.axhline(0.049,linestyle='dashed', c='black',alpha = .3)\n",
    "    table(ax2, df_percent,bbox=[0.035, 0.72, 0.2, 0.27])"
   ]
  },
  {
   "cell_type": "markdown",
   "metadata": {},
   "source": [
    "### Transactions"
   ]
  },
  {
   "cell_type": "code",
   "execution_count": 28,
   "metadata": {},
   "outputs": [
    {
     "data": {
      "text/html": [
       "<div>\n",
       "<style scoped>\n",
       "    .dataframe tbody tr th:only-of-type {\n",
       "        vertical-align: middle;\n",
       "    }\n",
       "\n",
       "    .dataframe tbody tr th {\n",
       "        vertical-align: top;\n",
       "    }\n",
       "\n",
       "    .dataframe thead th {\n",
       "        text-align: right;\n",
       "    }\n",
       "</style>\n",
       "<table border=\"1\" class=\"dataframe\">\n",
       "  <thead>\n",
       "    <tr style=\"text-align: right;\">\n",
       "      <th></th>\n",
       "      <th>msno</th>\n",
       "      <th>payment_method_id</th>\n",
       "      <th>payment_plan_days</th>\n",
       "      <th>plan_list_price</th>\n",
       "      <th>actual_amount_paid</th>\n",
       "      <th>is_auto_renew</th>\n",
       "      <th>transaction_date</th>\n",
       "      <th>membership_expire_date</th>\n",
       "      <th>is_cancel</th>\n",
       "    </tr>\n",
       "  </thead>\n",
       "  <tbody>\n",
       "    <tr>\n",
       "      <th>0</th>\n",
       "      <td>YyO+tlZtAXYXoZhNr3Vg3+dfVQvrBVGO8j1mfqe4ZHc=</td>\n",
       "      <td>41</td>\n",
       "      <td>30</td>\n",
       "      <td>129</td>\n",
       "      <td>129</td>\n",
       "      <td>1</td>\n",
       "      <td>20150930</td>\n",
       "      <td>20151101</td>\n",
       "      <td>0</td>\n",
       "    </tr>\n",
       "    <tr>\n",
       "      <th>1</th>\n",
       "      <td>AZtu6Wl0gPojrEQYB8Q3vBSmE2wnZ3hi1FbK1rQQ0A4=</td>\n",
       "      <td>41</td>\n",
       "      <td>30</td>\n",
       "      <td>149</td>\n",
       "      <td>149</td>\n",
       "      <td>1</td>\n",
       "      <td>20150930</td>\n",
       "      <td>20151031</td>\n",
       "      <td>0</td>\n",
       "    </tr>\n",
       "    <tr>\n",
       "      <th>2</th>\n",
       "      <td>UkDFI97Qb6+s2LWcijVVv4rMAsORbVDT2wNXF0aVbns=</td>\n",
       "      <td>41</td>\n",
       "      <td>30</td>\n",
       "      <td>129</td>\n",
       "      <td>129</td>\n",
       "      <td>1</td>\n",
       "      <td>20150930</td>\n",
       "      <td>20160427</td>\n",
       "      <td>0</td>\n",
       "    </tr>\n",
       "    <tr>\n",
       "      <th>3</th>\n",
       "      <td>M1C56ijxozNaGD0t2h68PnH2xtx5iO5iR2MVYQB6nBI=</td>\n",
       "      <td>39</td>\n",
       "      <td>30</td>\n",
       "      <td>149</td>\n",
       "      <td>149</td>\n",
       "      <td>1</td>\n",
       "      <td>20150930</td>\n",
       "      <td>20151128</td>\n",
       "      <td>0</td>\n",
       "    </tr>\n",
       "    <tr>\n",
       "      <th>4</th>\n",
       "      <td>yvj6zyBUaqdbUQSrKsrZ+xNDVM62knauSZJzakS9OW4=</td>\n",
       "      <td>39</td>\n",
       "      <td>30</td>\n",
       "      <td>149</td>\n",
       "      <td>149</td>\n",
       "      <td>1</td>\n",
       "      <td>20150930</td>\n",
       "      <td>20151121</td>\n",
       "      <td>0</td>\n",
       "    </tr>\n",
       "  </tbody>\n",
       "</table>\n",
       "</div>"
      ],
      "text/plain": [
       "                                           msno  payment_method_id  \\\n",
       "0  YyO+tlZtAXYXoZhNr3Vg3+dfVQvrBVGO8j1mfqe4ZHc=                 41   \n",
       "1  AZtu6Wl0gPojrEQYB8Q3vBSmE2wnZ3hi1FbK1rQQ0A4=                 41   \n",
       "2  UkDFI97Qb6+s2LWcijVVv4rMAsORbVDT2wNXF0aVbns=                 41   \n",
       "3  M1C56ijxozNaGD0t2h68PnH2xtx5iO5iR2MVYQB6nBI=                 39   \n",
       "4  yvj6zyBUaqdbUQSrKsrZ+xNDVM62knauSZJzakS9OW4=                 39   \n",
       "\n",
       "   payment_plan_days  plan_list_price  actual_amount_paid  is_auto_renew  \\\n",
       "0                 30              129                 129              1   \n",
       "1                 30              149                 149              1   \n",
       "2                 30              129                 129              1   \n",
       "3                 30              149                 149              1   \n",
       "4                 30              149                 149              1   \n",
       "\n",
       "   transaction_date  membership_expire_date  is_cancel  \n",
       "0          20150930                20151101          0  \n",
       "1          20150930                20151031          0  \n",
       "2          20150930                20160427          0  \n",
       "3          20150930                20151128          0  \n",
       "4          20150930                20151121          0  "
      ]
     },
     "execution_count": 28,
     "metadata": {},
     "output_type": "execute_result"
    }
   ],
   "source": [
    "df_tran = pd.read_csv('~/data/kkbox/transactions.csv')\n",
    "df_tran2 = pd.read_csv('~/data/kkbox/transactions_v2.csv')\n",
    "df_trans_all = pd.concat([df_tran, df_tran2])\n",
    "df_trans_all.head()"
   ]
  },
  {
   "cell_type": "code",
   "execution_count": 36,
   "metadata": {},
   "outputs": [
    {
     "data": {
      "text/html": [
       "<div>\n",
       "<style scoped>\n",
       "    .dataframe tbody tr th:only-of-type {\n",
       "        vertical-align: middle;\n",
       "    }\n",
       "\n",
       "    .dataframe tbody tr th {\n",
       "        vertical-align: top;\n",
       "    }\n",
       "\n",
       "    .dataframe thead th {\n",
       "        text-align: right;\n",
       "    }\n",
       "</style>\n",
       "<table border=\"1\" class=\"dataframe\">\n",
       "  <thead>\n",
       "    <tr style=\"text-align: right;\">\n",
       "      <th></th>\n",
       "      <th>msno</th>\n",
       "      <th>is_churn</th>\n",
       "      <th>payment_method_id</th>\n",
       "      <th>payment_plan_days</th>\n",
       "      <th>plan_list_price</th>\n",
       "      <th>actual_amount_paid</th>\n",
       "      <th>is_auto_renew</th>\n",
       "      <th>transaction_date</th>\n",
       "      <th>membership_expire_date</th>\n",
       "      <th>is_cancel</th>\n",
       "    </tr>\n",
       "  </thead>\n",
       "  <tbody>\n",
       "    <tr>\n",
       "      <th>0</th>\n",
       "      <td>waLDQMmcOu2jLDaV1ddDkgCrB/jl6sD66Xzs0Vqax1Y=</td>\n",
       "      <td>1</td>\n",
       "      <td>38</td>\n",
       "      <td>7</td>\n",
       "      <td>0</td>\n",
       "      <td>0</td>\n",
       "      <td>0</td>\n",
       "      <td>20161031</td>\n",
       "      <td>20161107</td>\n",
       "      <td>0</td>\n",
       "    </tr>\n",
       "    <tr>\n",
       "      <th>1</th>\n",
       "      <td>waLDQMmcOu2jLDaV1ddDkgCrB/jl6sD66Xzs0Vqax1Y=</td>\n",
       "      <td>1</td>\n",
       "      <td>38</td>\n",
       "      <td>30</td>\n",
       "      <td>149</td>\n",
       "      <td>149</td>\n",
       "      <td>0</td>\n",
       "      <td>20170107</td>\n",
       "      <td>20170206</td>\n",
       "      <td>0</td>\n",
       "    </tr>\n",
       "    <tr>\n",
       "      <th>2</th>\n",
       "      <td>QA7uiXy8vIbUSPOkCf9RwQ3FsT8jVq2OxDr8zqa7bRQ=</td>\n",
       "      <td>1</td>\n",
       "      <td>39</td>\n",
       "      <td>30</td>\n",
       "      <td>149</td>\n",
       "      <td>149</td>\n",
       "      <td>1</td>\n",
       "      <td>20161031</td>\n",
       "      <td>20161221</td>\n",
       "      <td>0</td>\n",
       "    </tr>\n",
       "    <tr>\n",
       "      <th>3</th>\n",
       "      <td>QA7uiXy8vIbUSPOkCf9RwQ3FsT8jVq2OxDr8zqa7bRQ=</td>\n",
       "      <td>1</td>\n",
       "      <td>39</td>\n",
       "      <td>30</td>\n",
       "      <td>149</td>\n",
       "      <td>149</td>\n",
       "      <td>1</td>\n",
       "      <td>20160715</td>\n",
       "      <td>20160821</td>\n",
       "      <td>0</td>\n",
       "    </tr>\n",
       "    <tr>\n",
       "      <th>4</th>\n",
       "      <td>QA7uiXy8vIbUSPOkCf9RwQ3FsT8jVq2OxDr8zqa7bRQ=</td>\n",
       "      <td>1</td>\n",
       "      <td>39</td>\n",
       "      <td>30</td>\n",
       "      <td>149</td>\n",
       "      <td>149</td>\n",
       "      <td>1</td>\n",
       "      <td>20160831</td>\n",
       "      <td>20161021</td>\n",
       "      <td>0</td>\n",
       "    </tr>\n",
       "  </tbody>\n",
       "</table>\n",
       "</div>"
      ],
      "text/plain": [
       "                                           msno  is_churn  payment_method_id  \\\n",
       "0  waLDQMmcOu2jLDaV1ddDkgCrB/jl6sD66Xzs0Vqax1Y=         1                 38   \n",
       "1  waLDQMmcOu2jLDaV1ddDkgCrB/jl6sD66Xzs0Vqax1Y=         1                 38   \n",
       "2  QA7uiXy8vIbUSPOkCf9RwQ3FsT8jVq2OxDr8zqa7bRQ=         1                 39   \n",
       "3  QA7uiXy8vIbUSPOkCf9RwQ3FsT8jVq2OxDr8zqa7bRQ=         1                 39   \n",
       "4  QA7uiXy8vIbUSPOkCf9RwQ3FsT8jVq2OxDr8zqa7bRQ=         1                 39   \n",
       "\n",
       "   payment_plan_days  plan_list_price  actual_amount_paid  is_auto_renew  \\\n",
       "0                  7                0                   0              0   \n",
       "1                 30              149                 149              0   \n",
       "2                 30              149                 149              1   \n",
       "3                 30              149                 149              1   \n",
       "4                 30              149                 149              1   \n",
       "\n",
       "   transaction_date  membership_expire_date  is_cancel  \n",
       "0          20161031                20161107          0  \n",
       "1          20170107                20170206          0  \n",
       "2          20161031                20161221          0  \n",
       "3          20160715                20160821          0  \n",
       "4          20160831                20161021          0  "
      ]
     },
     "execution_count": 36,
     "metadata": {},
     "output_type": "execute_result"
    }
   ],
   "source": [
    "df_train_all = pd.merge(df_train, df_trans_all, how='left',on=['msno'])\n",
    "df_train_all.head()"
   ]
  },
  {
   "cell_type": "markdown",
   "metadata": {},
   "source": [
    "處理日期"
   ]
  },
  {
   "cell_type": "code",
   "execution_count": 31,
   "metadata": {},
   "outputs": [],
   "source": [
    "def dtype_compressor(df):\n",
    "  # object \n",
    "  # when unique ratio > 0.5, catogory stands less memory than object\n",
    "  converted_obj = pd.DataFrame()\n",
    "  df_obj = df.select_dtypes(include=['object'])\n",
    "  for col in df_obj.columns:\n",
    "    # apply的方法(很慢)\n",
    "    converted_obj.loc[:,col] = df_obj.loc[:,col].astype('category')\n",
    "\n",
    "  # numbers\n",
    "  df_down_num = pd.DataFrame()\n",
    "  df_num = df.select_dtypes(include=['number'])\n",
    "  for col in df_num.columns:\n",
    "    df_down_num.loc[:,col] = pd.to_numeric(df_num.loc[:,col],downcast='signed')\n",
    "\n",
    "  # merge\n",
    "  df = pd.concat([converted_obj,df_down_num],axis=1)\n",
    "  \n",
    "  del converted_obj, df_obj, df_down_num, df_num  \n",
    "  \n",
    "  return df"
   ]
  },
  {
   "cell_type": "code",
   "execution_count": 32,
   "metadata": {},
   "outputs": [],
   "source": [
    "def fast_datetime(s):\n",
    "    dates = {date:pd.to_datetime(date,format='%Y%m%d') for date in s.unique()}\n",
    "    return s.map(dates)"
   ]
  },
  {
   "cell_type": "code",
   "execution_count": 39,
   "metadata": {},
   "outputs": [],
   "source": [
    "date_rename = {'transaction_date':'trans_date', 'membership_expire_date':'mem_expire_date'}\n",
    "df_train_all.rename(columns=date_rename,inplace=True)"
   ]
  },
  {
   "cell_type": "markdown",
   "metadata": {},
   "source": [
    "apply跟向量化的差異很大"
   ]
  },
  {
   "cell_type": "code",
   "execution_count": 34,
   "metadata": {},
   "outputs": [
    {
     "name": "stdout",
     "output_type": "stream",
     "text": [
      "CPU times: user 33.8 s, sys: 3.48 s, total: 37.3 s\n",
      "Wall time: 9.89 s\n"
     ]
    }
   ],
   "source": [
    "%%time\n",
    "df_train_all = dtype_compressor(df_train_all)"
   ]
  },
  {
   "cell_type": "code",
   "execution_count": 40,
   "metadata": {},
   "outputs": [
    {
     "name": "stdout",
     "output_type": "stream",
     "text": [
      "CPU times: user 3.73 s, sys: 1.54 s, total: 5.27 s\n",
      "Wall time: 953 ms\n"
     ]
    }
   ],
   "source": [
    "%%time\n",
    "d = ['trans_date', 'mem_expire_date']\n",
    "for col in d:\n",
    "  df_train_all[col] = fast_datetime(df_train_all[col])"
   ]
  },
  {
   "cell_type": "code",
   "execution_count": 35,
   "metadata": {},
   "outputs": [
    {
     "name": "stdout",
     "output_type": "stream",
     "text": [
      "Traning_set missing:\n",
      " msno                  0.0\n",
      "is_churn              0.0\n",
      "payment_method_id     0.0\n",
      "payment_plan_days     0.0\n",
      "plan_list_price       0.0\n",
      "actual_amount_paid    0.0\n",
      "is_auto_renew         0.0\n",
      "trans_date            0.0\n",
      "mem_expire_date       0.0\n",
      "is_cancel             0.0\n",
      "dtype: float64\n"
     ]
    }
   ],
   "source": [
    "print(\"Traning_set missing:\\n\",np.around(df_train_all.isnull().sum() / df_train_all.shape[0],decimals=3))"
   ]
  },
  {
   "cell_type": "code",
   "execution_count": 41,
   "metadata": {},
   "outputs": [
    {
     "data": {
      "text/html": [
       "<div>\n",
       "<style scoped>\n",
       "    .dataframe tbody tr th:only-of-type {\n",
       "        vertical-align: middle;\n",
       "    }\n",
       "\n",
       "    .dataframe tbody tr th {\n",
       "        vertical-align: top;\n",
       "    }\n",
       "\n",
       "    .dataframe thead th {\n",
       "        text-align: right;\n",
       "    }\n",
       "</style>\n",
       "<table border=\"1\" class=\"dataframe\">\n",
       "  <thead>\n",
       "    <tr style=\"text-align: right;\">\n",
       "      <th></th>\n",
       "      <th>msno</th>\n",
       "      <th>is_churn</th>\n",
       "      <th>payment_method_id</th>\n",
       "      <th>payment_plan_days</th>\n",
       "      <th>plan_list_price</th>\n",
       "      <th>actual_amount_paid</th>\n",
       "      <th>is_auto_renew</th>\n",
       "      <th>trans_date</th>\n",
       "      <th>mem_expire_date</th>\n",
       "      <th>is_cancel</th>\n",
       "    </tr>\n",
       "  </thead>\n",
       "  <tbody>\n",
       "    <tr>\n",
       "      <th>5253119</th>\n",
       "      <td>+++hVY1rZox/33YtvDgmKA2Frg/2qhkz12B9ylCvh8o=</td>\n",
       "      <td>0</td>\n",
       "      <td>41</td>\n",
       "      <td>30</td>\n",
       "      <td>99</td>\n",
       "      <td>99</td>\n",
       "      <td>1</td>\n",
       "      <td>2016-11-16</td>\n",
       "      <td>2016-12-15</td>\n",
       "      <td>0</td>\n",
       "    </tr>\n",
       "    <tr>\n",
       "      <th>5253121</th>\n",
       "      <td>+++hVY1rZox/33YtvDgmKA2Frg/2qhkz12B9ylCvh8o=</td>\n",
       "      <td>0</td>\n",
       "      <td>41</td>\n",
       "      <td>30</td>\n",
       "      <td>99</td>\n",
       "      <td>99</td>\n",
       "      <td>1</td>\n",
       "      <td>2016-12-15</td>\n",
       "      <td>2017-01-15</td>\n",
       "      <td>0</td>\n",
       "    </tr>\n",
       "    <tr>\n",
       "      <th>5253118</th>\n",
       "      <td>+++hVY1rZox/33YtvDgmKA2Frg/2qhkz12B9ylCvh8o=</td>\n",
       "      <td>0</td>\n",
       "      <td>41</td>\n",
       "      <td>30</td>\n",
       "      <td>99</td>\n",
       "      <td>99</td>\n",
       "      <td>1</td>\n",
       "      <td>2017-01-15</td>\n",
       "      <td>2017-02-15</td>\n",
       "      <td>0</td>\n",
       "    </tr>\n",
       "    <tr>\n",
       "      <th>5253120</th>\n",
       "      <td>+++hVY1rZox/33YtvDgmKA2Frg/2qhkz12B9ylCvh8o=</td>\n",
       "      <td>0</td>\n",
       "      <td>41</td>\n",
       "      <td>30</td>\n",
       "      <td>99</td>\n",
       "      <td>99</td>\n",
       "      <td>1</td>\n",
       "      <td>2017-02-15</td>\n",
       "      <td>2017-03-15</td>\n",
       "      <td>0</td>\n",
       "    </tr>\n",
       "    <tr>\n",
       "      <th>5253122</th>\n",
       "      <td>+++hVY1rZox/33YtvDgmKA2Frg/2qhkz12B9ylCvh8o=</td>\n",
       "      <td>0</td>\n",
       "      <td>41</td>\n",
       "      <td>30</td>\n",
       "      <td>99</td>\n",
       "      <td>99</td>\n",
       "      <td>1</td>\n",
       "      <td>2017-03-15</td>\n",
       "      <td>2017-04-15</td>\n",
       "      <td>0</td>\n",
       "    </tr>\n",
       "  </tbody>\n",
       "</table>\n",
       "</div>"
      ],
      "text/plain": [
       "                                                 msno  is_churn  \\\n",
       "5253119  +++hVY1rZox/33YtvDgmKA2Frg/2qhkz12B9ylCvh8o=         0   \n",
       "5253121  +++hVY1rZox/33YtvDgmKA2Frg/2qhkz12B9ylCvh8o=         0   \n",
       "5253118  +++hVY1rZox/33YtvDgmKA2Frg/2qhkz12B9ylCvh8o=         0   \n",
       "5253120  +++hVY1rZox/33YtvDgmKA2Frg/2qhkz12B9ylCvh8o=         0   \n",
       "5253122  +++hVY1rZox/33YtvDgmKA2Frg/2qhkz12B9ylCvh8o=         0   \n",
       "\n",
       "         payment_method_id  payment_plan_days  plan_list_price  \\\n",
       "5253119                 41                 30               99   \n",
       "5253121                 41                 30               99   \n",
       "5253118                 41                 30               99   \n",
       "5253120                 41                 30               99   \n",
       "5253122                 41                 30               99   \n",
       "\n",
       "         actual_amount_paid  is_auto_renew trans_date mem_expire_date  \\\n",
       "5253119                  99              1 2016-11-16      2016-12-15   \n",
       "5253121                  99              1 2016-12-15      2017-01-15   \n",
       "5253118                  99              1 2017-01-15      2017-02-15   \n",
       "5253120                  99              1 2017-02-15      2017-03-15   \n",
       "5253122                  99              1 2017-03-15      2017-04-15   \n",
       "\n",
       "         is_cancel  \n",
       "5253119          0  \n",
       "5253121          0  \n",
       "5253118          0  \n",
       "5253120          0  \n",
       "5253122          0  "
      ]
     },
     "execution_count": 41,
     "metadata": {},
     "output_type": "execute_result"
    }
   ],
   "source": [
    "df_train_all = df_train_all.sort_values(by=['msno','trans_date'])\n",
    "df_train_all.head()"
   ]
  },
  {
   "cell_type": "markdown",
   "metadata": {},
   "source": [
    "計算合約天數"
   ]
  },
  {
   "cell_type": "code",
   "execution_count": 43,
   "metadata": {},
   "outputs": [
    {
     "data": {
      "text/html": [
       "<div>\n",
       "<style scoped>\n",
       "    .dataframe tbody tr th:only-of-type {\n",
       "        vertical-align: middle;\n",
       "    }\n",
       "\n",
       "    .dataframe tbody tr th {\n",
       "        vertical-align: top;\n",
       "    }\n",
       "\n",
       "    .dataframe thead th {\n",
       "        text-align: right;\n",
       "    }\n",
       "</style>\n",
       "<table border=\"1\" class=\"dataframe\">\n",
       "  <thead>\n",
       "    <tr style=\"text-align: right;\">\n",
       "      <th></th>\n",
       "      <th>membership_int</th>\n",
       "      <th>payment_plan_days</th>\n",
       "    </tr>\n",
       "  </thead>\n",
       "  <tbody>\n",
       "    <tr>\n",
       "      <th>count</th>\n",
       "      <td>17017504.000</td>\n",
       "      <td>17017504.000</td>\n",
       "    </tr>\n",
       "    <tr>\n",
       "      <th>mean</th>\n",
       "      <td>39.561</td>\n",
       "      <td>29.985</td>\n",
       "    </tr>\n",
       "    <tr>\n",
       "      <th>std</th>\n",
       "      <td>94.316</td>\n",
       "      <td>17.826</td>\n",
       "    </tr>\n",
       "    <tr>\n",
       "      <th>min</th>\n",
       "      <td>-17217.000</td>\n",
       "      <td>0.000</td>\n",
       "    </tr>\n",
       "    <tr>\n",
       "      <th>25%</th>\n",
       "      <td>30.000</td>\n",
       "      <td>30.000</td>\n",
       "    </tr>\n",
       "    <tr>\n",
       "      <th>50%</th>\n",
       "      <td>31.000</td>\n",
       "      <td>30.000</td>\n",
       "    </tr>\n",
       "    <tr>\n",
       "      <th>75%</th>\n",
       "      <td>31.000</td>\n",
       "      <td>30.000</td>\n",
       "    </tr>\n",
       "    <tr>\n",
       "      <th>max</th>\n",
       "      <td>3158.000</td>\n",
       "      <td>450.000</td>\n",
       "    </tr>\n",
       "  </tbody>\n",
       "</table>\n",
       "</div>"
      ],
      "text/plain": [
       "       membership_int  payment_plan_days\n",
       "count    17017504.000       17017504.000\n",
       "mean           39.561             29.985\n",
       "std            94.316             17.826\n",
       "min        -17217.000              0.000\n",
       "25%            30.000             30.000\n",
       "50%            31.000             30.000\n",
       "75%            31.000             30.000\n",
       "max          3158.000            450.000"
      ]
     },
     "execution_count": 43,
     "metadata": {},
     "output_type": "execute_result"
    }
   ],
   "source": [
    "# 不支援 datetime格式\n",
    "# df_train_all = df_train_all.eval('membership = mem_expire_date - trans_date') \n",
    "df_train_all['membership'] = df_train_all['mem_expire_date'] - df_train_all['trans_date']\n",
    "\n",
    "# 向量化\n",
    "df_train_all['membership_int'] = df_train_all.membership / np.timedelta64(1,'D')\n",
    "\n",
    "pd.set_option('display.float_format', lambda x: '%.3f' % x)\n",
    "df_train_all[['membership_int','payment_plan_days']].describe()"
   ]
  },
  {
   "cell_type": "markdown",
   "metadata": {},
   "source": [
    "`如果是曾經流失過的使用者，又回鍋使用kkbox，則之後流失的機率也會比較高`"
   ]
  },
  {
   "cell_type": "code",
   "execution_count": null,
   "metadata": {},
   "outputs": [],
   "source": [
    "min_date = df_train_all.membership_int.min()\n",
    "# 會員持續日期小於 -30天\n",
    "con = ((df_train_all.membership_int.between(min_date, -30)) & (df_train_all.is_cancel == 0))\n",
    "df_train_all.loc[con,'payment_plan_days'].value_counts().sort_index()"
   ]
  },
  {
   "cell_type": "markdown",
   "metadata": {},
   "source": [
    "處理資料"
   ]
  },
  {
   "cell_type": "code",
   "execution_count": 52,
   "metadata": {},
   "outputs": [],
   "source": [
    "def fast_time_delta(s):\n",
    "    intervals = {interval:pd.to_timedelta(interval,unit='D') for interval in s.unique()}\n",
    "    return s.map(intervals)"
   ]
  },
  {
   "cell_type": "markdown",
   "metadata": {},
   "source": [
    "negtive min_date ~ -30 days\n",
    "\n",
    "is_cancel = 0\n",
    "  Clean up use:\n",
    "    # engineered payment_plan_days_time_delta --> plan_days_td\n",
    "    # payment_plan_days not 0 --> expire = trans + plan_days_td\n",
    "    # payment_plan_days is 0  --> expire = trans + 30 days (explored first with actual_amount_paid)\n",
    "    # the actual_amount_paid could be check on Summarization above"
   ]
  },
  {
   "cell_type": "code",
   "execution_count": 53,
   "metadata": {},
   "outputs": [],
   "source": [
    "df_train_all.loc[con, 'mem_expire_date'] = df_train_all.loc[con, 'trans_date'] \n",
    "df_train_all['plan_days_td'] = fast_time_delta(df_train_all.payment_plan_days)"
   ]
  },
  {
   "cell_type": "code",
   "execution_count": 54,
   "metadata": {},
   "outputs": [],
   "source": [
    "  # not_0_plan_days\n",
    "con = ((df_train_all.membership_int.between(min_date,-30)) & (df_train_all.is_cancel == 0))\n",
    "not_0_plan_days = ~ (df_train_all.payment_plan_days.isin([0]))\n",
    "df_train_all.loc[con & not_0_plan_days,'mem_expire_date'] = df_train_all.loc[con & not_0_plan_days,'trans_date'] + \\\n",
    "df_train_all.loc[con & not_0_plan_days,'plan_days_td']\n",
    "\n",
    "  # are_0_plan_days\n",
    "are_0_plan_days = df_train_all.payment_plan_days.isin([0])\n",
    "df_train_all.loc[con & are_0_plan_days,'mem_expire_date'] = df_train_all.loc[con & are_0_plan_days,'trans_date'] + pd.Timedelta('30 days')"
   ]
  },
  {
   "cell_type": "markdown",
   "metadata": {},
   "source": [
    "positive 450 days ~ max_date"
   ]
  },
  {
   "cell_type": "code",
   "execution_count": 55,
   "metadata": {},
   "outputs": [],
   "source": [
    "# is_cancel = 1\n",
    "  # Clean up by replaceing trans_date \n",
    "max_date = df_train_all.membership_int.max()\n",
    "con = ((df_train_all.membership_int.between(450, max_date)) & (df_train_all.is_cancel == 1))\n",
    "df_train_all.loc[con, 'mem_expire_date'] = df_train_all.loc[con, 'trans_date'] \n",
    "\n",
    "# is_cancel = 0\n",
    "  # Clean up use:\n",
    "    # payment_plan_days not 0 --> expire = trans + plan_days_td\n",
    "    # payment_plan_days is 0 \n",
    "      # the  30 days case --> expire = trans + 30 days\n",
    "      # the 400 days case --> expire = trnas + 400 days\n",
    "\n",
    "\n",
    "# payment_plan_day not 0\n",
    "con = ((df_train_all.membership_int.between(450,max_date)) & (df_train_all.is_cancel == 0))\n",
    "not_0_plan_days = ~ (df_train_all.payment_plan_days.isin([0]))\n",
    "df_train_all.loc[con & not_0_plan_days,'mem_expire_date'] = df_train_all.loc[con & not_0_plan_days,'trans_date'] + \\\n",
    "df_train_all.loc[con & not_0_plan_days,'plan_days_td']\n",
    "\n",
    "# plan_days = 0 infer by actual_amount_paid\n",
    "# the 30 days case\n",
    "\n",
    "con = (df_train_all.payment_plan_days == 0) & (df_train_all.membership_int > 450)\n",
    "\n",
    "paid_30_days = df_train_all.actual_amount_paid.isin([100,119,129,149])\n",
    "df_train_all.loc[con & paid_30_days , 'mem_expire_date'] = \\\n",
    "df_train_all.loc[con & paid_30_days, 'trans_date'] + pd.Timedelta('30 days')\n",
    "\n",
    "# plan_days = 0 infer by actual_amount_paid\n",
    "# the 400 days case\n",
    "paid_400_days = df_train_all.actual_amount_paid.isin([1599,1788])\n",
    "df_train_all.loc[con & paid_400_days , 'mem_expire_date'] = \\\n",
    "df_train_all.loc[con & paid_400_days, 'trans_date'] + pd.Timedelta('400 days')"
   ]
  },
  {
   "cell_type": "markdown",
   "metadata": {},
   "source": [
    "非連續使用的使用者(last_last_churn = 1)"
   ]
  },
  {
   "cell_type": "code",
   "execution_count": null,
   "metadata": {},
   "outputs": [],
   "source": []
  }
 ],
 "metadata": {
  "kernelspec": {
   "display_name": "Python 3",
   "language": "python",
   "name": "python3"
  },
  "language_info": {
   "codemirror_mode": {
    "name": "ipython",
    "version": 3
   },
   "file_extension": ".py",
   "mimetype": "text/x-python",
   "name": "python",
   "nbconvert_exporter": "python",
   "pygments_lexer": "ipython3",
   "version": "3.7.3"
  }
 },
 "nbformat": 4,
 "nbformat_minor": 4
}
